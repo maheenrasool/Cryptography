{
 "cells": [
  {
   "cell_type": "code",
   "execution_count": 10,
   "id": "47637034",
   "metadata": {},
   "outputs": [],
   "source": [
    "import matplotlib.pyplot as plt\n",
    "import numpy as np"
   ]
  },
  {
   "cell_type": "code",
   "execution_count": 11,
   "id": "1e3aeba2",
   "metadata": {},
   "outputs": [
    {
     "name": "stdout",
     "output_type": "stream",
     "text": [
      "IMAGE:   C_CONTIGUOUS : True\n",
      "  F_CONTIGUOUS : False\n",
      "  OWNDATA : True\n",
      "  WRITEABLE : True\n",
      "  ALIGNED : True\n",
      "  WRITEBACKIFCOPY : False\n",
      "\n",
      "IMAGE SHAPE:  (1920, 1080, 3)\n"
     ]
    },
    {
     "data": {
      "text/plain": [
       "<matplotlib.image.AxesImage at 0x19d5ed1ba50>"
      ]
     },
     "execution_count": 11,
     "metadata": {},
     "output_type": "execute_result"
    },
    {
     "data": {
      "image/png": "[encoded data removed]",
      "text/plain": [
       "<Figure size 640x480 with 1 Axes>"
      ]
     },
     "metadata": {},
     "output_type": "display_data"
    }
   ],
   "source": [
    "\n",
    "# read the image\n",
    "image = np.array(plt.imread(r\"whiteIMG.jpg\"))\n",
    "# Check the flags of the image\n",
    "print(\"IMAGE:\", image.flags)\n",
    "\n",
    "print(\"IMAGE SHAPE: \", image.shape)\n",
    "plt.xlabel(\" INPUT IMAGE\")\n",
    "plt.imshow(image)\n"
   ]
  },
  {
   "cell_type": "code",
   "execution_count": 12,
   "id": "99279d6b",
   "metadata": {},
   "outputs": [
    {
     "name": "stdout",
     "output_type": "stream",
     "text": [
      "IMAGE SHAPE:  1920 , 1080 , 3\n",
      "NEW IMG SHAPE:  (1920, 1080, 3)\n"
     ]
    }
   ],
   "source": [
    "def dct(image):\n",
    "    \n",
    "    rowIMG, colIMG, numValues = image.shape\n",
    "    dct = np.zeros(image.shape)\n",
    "    \n",
    "    print(\"IMAGE SHAPE: \", rowIMG,\",\", colIMG, \",\", numValues)\n",
    "    print(\"NEW IMG SHAPE: \", dct.shape)\n",
    "    \n",
    "dct(image)\n"
   ]
  },
  {
   "cell_type": "code",
   "execution_count": 13,
   "id": "411323c1",
   "metadata": {
    "scrolled": true
   },
   "outputs": [
    {
     "name": "stdout",
     "output_type": "stream",
     "text": [
      "Enter text to be encoded: Maheen is hereeeeeeeeeee\n"
     ]
    },
    {
     "name": "stderr",
     "output_type": "stream",
     "text": [
      "C:\\Users\\mahee\\AppData\\Local\\Temp\\ipykernel_9232\\2595721752.py:31: DeprecationWarning: NumPy will stop allowing conversion of out-of-bound Python integers to integer arrays.  The conversion of 11111100 to uint8 will fail in the future.\n",
      "For the old behavior, usually:\n",
      "    np.array(value).astype(dtype)`\n",
      "will give the desired result (the cast overflows).\n",
      "  image[r][c][p] = int(new_bin_pixel)\n",
      "C:\\Users\\mahee\\AppData\\Local\\Temp\\ipykernel_9232\\2595721752.py:31: DeprecationWarning: NumPy will stop allowing conversion of out-of-bound Python integers to integer arrays.  The conversion of 11111101 to uint8 will fail in the future.\n",
      "For the old behavior, usually:\n",
      "    np.array(value).astype(dtype)`\n",
      "will give the desired result (the cast overflows).\n",
      "  image[r][c][p] = int(new_bin_pixel)\n"
     ]
    },
    {
     "data": {
      "text/plain": [
       "<matplotlib.image.AxesImage at 0x19d607460d0>"
      ]
     },
     "execution_count": 13,
     "metadata": {},
     "output_type": "execute_result"
    },
    {
     "data": {
      "image/png": "[encoded data removed]",
      "text/plain": [
       "<Figure size 640x480 with 1 Axes>"
      ]
     },
     "metadata": {},
     "output_type": "display_data"
    }
   ],
   "source": [
    "def to_bin(message): # convert message to binary\n",
    "    binary_msg = ''\n",
    "    for i in message:\n",
    "        binary_msg += (str(bin(ord(i))[2:].zfill(8)).replace(\"0b\",\"\"))\n",
    "    return binary_msg\n",
    "\n",
    "# to encode\n",
    "def hide_msg(bin_msg, image):\n",
    "    \n",
    "    messg = \"\"\n",
    "    bin_msg = list(bin_msg)\n",
    "    #print(\"Message in binary: \", bin_msg)\n",
    "    \n",
    "    idx = 0\n",
    "    req_pixels = len(bin_msg)\n",
    "    height, width, channels = image.shape\n",
    "    if (height *width *channels) < req_pixels:\n",
    "        print(\"Data size exceeds the file size, can't hide data...\")\n",
    "        return \n",
    "    \n",
    "    for r in range(height):\n",
    "        for c in range(width):\n",
    "            for p in range(channels):\n",
    "                if idx < req_pixels:\n",
    "                    \n",
    "                    bin_p = bin(image[r][c][p]).replace(\"0b\",\"\") #bin take int as parameter and returns a string\n",
    "                    pix = list(bin_p)\n",
    "                    pix[-1] = bin_msg[idx]\n",
    "                    messg += str(bin_msg[idx])\n",
    "                    new_bin_pixel = ''.join(pix)\n",
    "                    image[r][c][p] = int(new_bin_pixel)\n",
    "                    idx += 1\n",
    "\n",
    "    return image, req_pixels\n",
    "\n",
    "def decode_msg(image, message_length):\n",
    "    msg = \"\"\n",
    "    height, width, channels = image.shape\n",
    "    idx = 0\n",
    "    for r in range(height):\n",
    "        for c in range(width):\n",
    "            for p in range(channels):\n",
    "                \n",
    "                if idx > message_length:\n",
    "                    break\n",
    "                bin_p = bin(image[r][c][p]).replace(\"0b\",\"\") #bin take int as parameter and returns a string\n",
    "                pix = list(bin_p)\n",
    "                msg += str(pix[-1])\n",
    "                idx += 1\n",
    "                \n",
    "            if idx > message_length:\n",
    "                break\n",
    "                \n",
    "        if idx > message_length:\n",
    "                break\n",
    "                \n",
    "    \n",
    "    bit_limit_per_char  = 0  \n",
    "    message = \"\"\n",
    "    character = ''\n",
    "    idx = 0\n",
    "    \n",
    "    for i in msg:\n",
    "     \n",
    "        if bit_limit_per_char == 8:\n",
    "            \n",
    "            message += chr(int(character, 2))\n",
    "            character = \"\"\n",
    "            bit_limit_per_char  = 0 \n",
    "            \n",
    "        character += i \n",
    "        bit_limit_per_char  += 1 \n",
    "        \n",
    "    return message\n",
    "                \n",
    "    \n",
    "message = input(\"Enter text to be encoded: \")\n",
    "bin_msg = to_bin(message)\n",
    "image_encoded, message_length = hide_msg(bin_msg, image)\n",
    "\n",
    "plt.imsave(r'outputIMG.bmp', image_encoded)\n",
    "plt.imshow(image_encoded)\n",
    "\n"
   ]
  },
  {
   "cell_type": "code",
   "execution_count": 14,
   "id": "4c336c5f",
   "metadata": {},
   "outputs": [
    {
     "name": "stdout",
     "output_type": "stream",
     "text": [
      "Message decoded:  Maheen is hereeeeeeeeeee\n"
     ]
    }
   ],
   "source": [
    "message = decode_msg(image_encoded, message_length)\n",
    "print(\"Message decoded: \", message)"
   ]
  },
  {
   "cell_type": "code",
   "execution_count": null,
   "id": "9b738882",
   "metadata": {},
   "outputs": [],
   "source": []
  },
  {
   "cell_type": "code",
   "execution_count": null,
   "id": "eb13d287",
   "metadata": {},
   "outputs": [],
   "source": []
  },
  {
   "cell_type": "code",
   "execution_count": null,
   "id": "264623a7",
   "metadata": {},
   "outputs": [],
   "source": []
  },
  {
   "cell_type": "code",
   "execution_count": null,
   "id": "d8d8528d",
   "metadata": {},
   "outputs": [],
   "source": []
  },
  {
   "cell_type": "code",
   "execution_count": null,
   "id": "9c0cd4f7",
   "metadata": {},
   "outputs": [],
   "source": []
  }
 ],
 "metadata": {
  "kernelspec": {
   "display_name": "Python 3 (ipykernel)",
   "language": "python",
   "name": "python3"
  },
  "language_info": {
   "codemirror_mode": {
    "name": "ipython",
    "version": 3
   },
   "file_extension": ".py",
   "mimetype": "text/x-python",
   "name": "python",
   "nbconvert_exporter": "python",
   "pygments_lexer": "ipython3",
   "version": "3.11.4"
  }
 },
 "nbformat": 4,
 "nbformat_minor": 5
}
